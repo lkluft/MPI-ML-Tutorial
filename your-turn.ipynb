{
 "cells": [
  {
   "cell_type": "markdown",
   "metadata": {},
   "source": [
    "# Now it's your turn\n",
    "\n",
    "Your challenge now is to build an image recogition network to distinguish between airplanes and cars. You can use the same steps as for the mnist notebook."
   ]
  },
  {
   "cell_type": "code",
   "execution_count": 1,
   "metadata": {},
   "outputs": [
    {
     "name": "stderr",
     "output_type": "stream",
     "text": [
      "Using TensorFlow backend.\n"
     ]
    }
   ],
   "source": [
    "%matplotlib inline\n",
    "import numpy as np\n",
    "import keras\n",
    "import matplotlib.pyplot as plt\n",
    "from sklearn.model_selection import train_test_split\n",
    "from keras.layers import *\n",
    "from keras.optimizers import SGD, Adam\n",
    "from keras.models import Sequential\n",
    "from keras.utils import to_categorical"
   ]
  },
  {
   "cell_type": "markdown",
   "metadata": {},
   "source": [
    "## Load and prepare the dataset\n",
    "\n",
    "The dataset we are using is the CIFAR 10 dataset. It contains 60,000 32x32 color images of 10 different classes:  airplanes, cars, birds, cats, deer, dogs, frogs, horses, ships, and trucks\n",
    "\n",
    "We will only use the first two (to reduce the computing times). "
   ]
  },
  {
   "cell_type": "code",
   "execution_count": 2,
   "metadata": {
    "collapsed": true
   },
   "outputs": [],
   "source": [
    "(x_trn, y_trn), (x_test, y_test) = keras.datasets.cifar10.load_data()"
   ]
  },
  {
   "cell_type": "code",
   "execution_count": 3,
   "metadata": {},
   "outputs": [
    {
     "data": {
      "text/plain": [
       "((50000, 32, 32, 3), (50000, 1), (10000, 32, 32, 3))"
      ]
     },
     "execution_count": 3,
     "metadata": {},
     "output_type": "execute_result"
    }
   ],
   "source": [
    "x_trn.shape, y_trn.shape, x_test.shape"
   ]
  },
  {
   "cell_type": "code",
   "execution_count": 68,
   "metadata": {},
   "outputs": [
    {
     "data": {
      "text/plain": [
       "(50000,)"
      ]
     },
     "execution_count": 68,
     "metadata": {},
     "output_type": "execute_result"
    }
   ],
   "source": [
    "# Get rid of the empty dimension in the target arrays\n",
    "y_trn = y_trn.squeeze()\n",
    "y_test = y_test.squeeze()\n",
    "y_trn.shape"
   ]
  },
  {
   "cell_type": "code",
   "execution_count": 69,
   "metadata": {
    "collapsed": true
   },
   "outputs": [],
   "source": [
    "# Pick only the first two classes: 0 = airplanes, 1 = cars\n",
    "x_trn = x_trn[y_trn < 2]\n",
    "y_trn = y_trn[y_trn < 2]\n",
    "x_test = x_test[y_test < 2]\n",
    "y_test = y_test[y_test < 2]"
   ]
  },
  {
   "cell_type": "code",
   "execution_count": 70,
   "metadata": {},
   "outputs": [
    {
     "data": {
      "text/plain": [
       "((10000, 32, 32, 3), (10000,), (2000, 32, 32, 3))"
      ]
     },
     "execution_count": 70,
     "metadata": {},
     "output_type": "execute_result"
    }
   ],
   "source": [
    "x_trn.shape, y_trn.shape, x_test.shape"
   ]
  },
  {
   "cell_type": "markdown",
   "metadata": {},
   "source": [
    "## Task: Visualize the data\n",
    "\n",
    "Try to plot some images of both classes."
   ]
  },
  {
   "cell_type": "markdown",
   "metadata": {},
   "source": [
    "## Task: Build a fully connected network\n",
    "\n",
    "The steps are similar to MNIST, but there are some differences. First, these images have 3 color channels and second, we now have a binary classification problem instead of a categorical classification problem. \n",
    "\n",
    "You probably want to think about whether the `softmax` activation function in the final layer is still the best choice. (Hint: It isn't.) And also, the loss function probably should be different. Try googling or searching through the Keras documentation to find the right parameters. (Or ask me if you are stuck.)"
   ]
  },
  {
   "cell_type": "markdown",
   "metadata": {},
   "source": [
    "### Task: Check out the predictions\n",
    "\n",
    "Now that you have a model, try to understand which sort of pictures the algorithm has problems with. Try plotting the wrong predictions for each class."
   ]
  },
  {
   "cell_type": "markdown",
   "metadata": {},
   "source": [
    "## Task: Build a convolutional neural network\n",
    "\n",
    "Now for the real thing. How accurate can you get with a CNN? Again, try googling. You will probably have to find a trade-off between computation time and accuracy."
   ]
  }
 ],
 "metadata": {
  "kernelspec": {
   "display_name": "Python 3",
   "language": "python",
   "name": "python3"
  },
  "language_info": {
   "codemirror_mode": {
    "name": "ipython",
    "version": 3
   },
   "file_extension": ".py",
   "mimetype": "text/x-python",
   "name": "python",
   "nbconvert_exporter": "python",
   "pygments_lexer": "ipython3",
   "version": "3.6.3"
  },
  "toc": {
   "nav_menu": {},
   "number_sections": true,
   "sideBar": false,
   "skip_h1_title": true,
   "title_cell": "Table of Contents",
   "title_sidebar": "Contents",
   "toc_cell": false,
   "toc_position": {},
   "toc_section_display": true,
   "toc_window_display": false
  }
 },
 "nbformat": 4,
 "nbformat_minor": 2
}
