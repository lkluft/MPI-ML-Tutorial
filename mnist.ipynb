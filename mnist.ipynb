{
 "cells": [
  {
   "cell_type": "markdown",
   "metadata": {},
   "source": [
    "# Recognizing hand-written digits with neural networks\n",
    "\n",
    "**Neural network Python libraries**\n",
    "- *Keras*: High level library based on Tensorflow (or others) that is easy to use and flexible enough for most standard users. It has a great documentation and online support. \n",
    "- *Tensorflow*: Google's neural network library. Most widely used in ML research. Flexible and powerful but also (unnecessarily?) complicated.\n",
    "- *Pytorch*: The newcomer developed by Facebook. Flexible like Tensorflow but with a nicer, more Pythonic API.\n",
    "\n",
    "In this notebook we will tackle a classification task, recognizing hand-written digits of the famous MNIST dataset."
   ]
  },
  {
   "cell_type": "code",
   "execution_count": 1,
   "metadata": {},
   "outputs": [
    {
     "name": "stderr",
     "output_type": "stream",
     "text": [
      "Using TensorFlow backend.\n"
     ]
    }
   ],
   "source": [
    "%matplotlib inline\n",
    "import numpy as np\n",
    "import keras\n",
    "import matplotlib.pyplot as plt\n",
    "from sklearn.model_selection import train_test_split\n",
    "from keras.layers import *\n",
    "from keras.optimizers import SGD, Adam\n",
    "from keras.models import Sequential\n",
    "from keras.utils import to_categorical"
   ]
  },
  {
   "cell_type": "markdown",
   "metadata": {},
   "source": [
    "## MNIST - Preparing and exploring the data\n",
    "\n",
    "Keras has a handy function to download the entire MNIST dataset which consists of 60,000 training images and 10000 test images."
   ]
  },
  {
   "cell_type": "code",
   "execution_count": 37,
   "metadata": {
    "collapsed": true
   },
   "outputs": [],
   "source": [
    "(x_trn, y_trn), (x_test, y_test) = keras.datasets.mnist.load_data()"
   ]
  },
  {
   "cell_type": "code",
   "execution_count": 38,
   "metadata": {},
   "outputs": [
    {
     "data": {
      "text/plain": [
       "((60000, 28, 28), (60000,), (10000, 28, 28), (10000,))"
      ]
     },
     "execution_count": 38,
     "metadata": {},
     "output_type": "execute_result"
    }
   ],
   "source": [
    "x_trn.shape, y_trn.shape, x_test.shape, y_test.shape"
   ]
  },
  {
   "cell_type": "markdown",
   "metadata": {},
   "source": [
    "**STOP!** What are training, validation and test sets?\n",
    "\n",
    "- Training set: Data used to optimize the machine learning algorithm\n",
    "- Validation set: Data used to independently verify the skill of the algorithm\n",
    "- Test set: Another independent set used for *final* verification.\n",
    "\n",
    "Let's make a validation set."
   ]
  },
  {
   "cell_type": "code",
   "execution_count": null,
   "metadata": {
    "collapsed": true
   },
   "outputs": [],
   "source": [
    "# Set a random seed to make train/valid split reproducible\n",
    "np.random.seed(42)"
   ]
  },
  {
   "cell_type": "code",
   "execution_count": 39,
   "metadata": {
    "collapsed": true
   },
   "outputs": [],
   "source": [
    "x_trn, x_val, y_trn, y_val = train_test_split(x_trn, y_trn, test_size=0.2)"
   ]
  },
  {
   "cell_type": "code",
   "execution_count": 40,
   "metadata": {},
   "outputs": [
    {
     "data": {
      "text/plain": [
       "((48000, 28, 28), (12000, 28, 28))"
      ]
     },
     "execution_count": 40,
     "metadata": {},
     "output_type": "execute_result"
    }
   ],
   "source": [
    "x_trn.shape, x_val.shape"
   ]
  },
  {
   "cell_type": "code",
   "execution_count": 45,
   "metadata": {
    "collapsed": true
   },
   "outputs": [],
   "source": [
    "def plots(xs, ys):\n",
    "    nfigs = xs.shape[0]; ncols = min(3, nfigs); nrows = int(np.floor(nfigs / ncols))\n",
    "    fig, axs = plt.subplots(nrows, ncols, figsize=(3*ncols, 3*nrows))\n",
    "    for i, ax in enumerate(axs.flat):\n",
    "        ax.imshow(xs[i], cmap='gray')\n",
    "        ax.set_title(str(ys[i]))\n",
    "        ax.set_xticks([]); ax.set_yticks([])"
   ]
  },
  {
   "cell_type": "code",
   "execution_count": 46,
   "metadata": {},
   "outputs": [
    {
     "data": {
      "image/png": "[encoded data removed]",
      "text/plain": [
       "<matplotlib.figure.Figure at 0x146fda128>"
      ]
     },
     "metadata": {},
     "output_type": "display_data"
    }
   ],
   "source": [
    "plots(x_trn[:9], y_trn[:9])"
   ]
  },
  {
   "cell_type": "markdown",
   "metadata": {},
   "source": [
    "For gradient descent to work efficiently it is important that all the input variables or features are roughly on the same order of magnitude. Typically, we try to get them around 1."
   ]
  },
  {
   "cell_type": "code",
   "execution_count": 47,
   "metadata": {
    "collapsed": true
   },
   "outputs": [],
   "source": [
    "def normalize(x): return x / 255"
   ]
  },
  {
   "cell_type": "code",
   "execution_count": 48,
   "metadata": {
    "collapsed": true
   },
   "outputs": [],
   "source": [
    "x_trn = normalize(x_trn)\n",
    "x_val = normalize(x_val)"
   ]
  },
  {
   "cell_type": "code",
   "execution_count": 49,
   "metadata": {},
   "outputs": [
    {
     "data": {
      "text/plain": [
       "array([[ 0.05098039,  0.        ,  0.        ],\n",
       "       [ 0.36078431,  0.        ,  0.        ],\n",
       "       [ 0.        ,  0.        ,  0.        ]])"
      ]
     },
     "execution_count": 49,
     "metadata": {},
     "output_type": "execute_result"
    }
   ],
   "source": [
    "x_trn[0, 12:15, 12:15]"
   ]
  },
  {
   "cell_type": "code",
   "execution_count": 50,
   "metadata": {},
   "outputs": [
    {
     "data": {
      "image/png": "[encoded data removed]",
      "text/plain": [
       "<matplotlib.figure.Figure at 0x11434f908>"
      ]
     },
     "metadata": {},
     "output_type": "display_data"
    }
   ],
   "source": [
    "plt.imshow(x_trn[0, 12:15, 12:15], cmap='gray');"
   ]
  },
  {
   "cell_type": "markdown",
   "metadata": {},
   "source": [
    "Now we will do something pretty dumb. We will flatten out the images and throw away all spatial information."
   ]
  },
  {
   "cell_type": "code",
   "execution_count": 51,
   "metadata": {
    "collapsed": true
   },
   "outputs": [],
   "source": [
    "def flatten(x): return x.reshape(x.shape[0], -1)"
   ]
  },
  {
   "cell_type": "code",
   "execution_count": 52,
   "metadata": {
    "collapsed": true
   },
   "outputs": [],
   "source": [
    "x_trn = flatten(x_trn)\n",
    "x_val = flatten(x_val)"
   ]
  },
  {
   "cell_type": "code",
   "execution_count": 53,
   "metadata": {},
   "outputs": [
    {
     "data": {
      "text/plain": [
       "(48000, 784)"
      ]
     },
     "execution_count": 53,
     "metadata": {},
     "output_type": "execute_result"
    }
   ],
   "source": [
    "x_trn.shape"
   ]
  },
  {
   "cell_type": "code",
   "execution_count": 54,
   "metadata": {},
   "outputs": [
    {
     "data": {
      "image/png": "[encoded data removed]",
      "text/plain": [
       "<matplotlib.figure.Figure at 0x14692bfd0>"
      ]
     },
     "metadata": {},
     "output_type": "display_data"
    }
   ],
   "source": [
    "fig = plt.figure(figsize=(100, 1))\n",
    "plt.imshow(x_trn[0, None, :], cmap='gray');"
   ]
  },
  {
   "cell_type": "markdown",
   "metadata": {},
   "source": [
    "We are dealing with a classification problem. That means that the correct answer to always one of 10 classes. To pass the numbers to the neural net we one-hot encode the labels."
   ]
  },
  {
   "cell_type": "code",
   "execution_count": 55,
   "metadata": {
    "collapsed": true
   },
   "outputs": [],
   "source": [
    "yoh_trn = to_categorical(y_trn)\n",
    "yoh_val = to_categorical(y_val)"
   ]
  },
  {
   "cell_type": "code",
   "execution_count": 56,
   "metadata": {},
   "outputs": [
    {
     "data": {
      "text/plain": [
       "(array([0, 9, 9], dtype=uint8),\n",
       " array([[ 1.,  0.,  0.,  0.,  0.,  0.,  0.,  0.,  0.,  0.],\n",
       "        [ 0.,  0.,  0.,  0.,  0.,  0.,  0.,  0.,  0.,  1.],\n",
       "        [ 0.,  0.,  0.,  0.,  0.,  0.,  0.,  0.,  0.,  1.]]))"
      ]
     },
     "execution_count": 56,
     "metadata": {},
     "output_type": "execute_result"
    }
   ],
   "source": [
    "y_trn[:3], yoh_trn[:3]"
   ]
  },
  {
   "cell_type": "markdown",
   "metadata": {},
   "source": [
    "## Training a simple linear network\n",
    "\n",
    "To start, let's train a simple linear network."
   ]
  },
  {
   "cell_type": "code",
   "execution_count": 62,
   "metadata": {
    "collapsed": true
   },
   "outputs": [],
   "source": [
    "linear_model = Sequential([\n",
    "    Dense(10, input_shape=(784,), activation='softmax'),\n",
    "])"
   ]
  },
  {
   "cell_type": "markdown",
   "metadata": {},
   "source": [
    "After the matrix multiplication we are using a Softmax layer."
   ]
  },
  {
   "cell_type": "code",
   "execution_count": 63,
   "metadata": {
    "collapsed": true
   },
   "outputs": [],
   "source": [
    "def softmax(x):\n",
    "    np.exp(x) / np.sum(np.exp(x))"
   ]
  },
  {
   "cell_type": "code",
   "execution_count": 64,
   "metadata": {
    "collapsed": true
   },
   "outputs": [],
   "source": [
    "x = [2, 6, 3, 5]"
   ]
  },
  {
   "cell_type": "code",
   "execution_count": 65,
   "metadata": {},
   "outputs": [
    {
     "data": {
      "text/plain": [
       "array([   7.3890561 ,  403.42879349,   20.08553692,  148.4131591 ])"
      ]
     },
     "execution_count": 65,
     "metadata": {},
     "output_type": "execute_result"
    }
   ],
   "source": [
    "np.exp(x)"
   ]
  },
  {
   "cell_type": "code",
   "execution_count": 66,
   "metadata": {},
   "outputs": [
    {
     "data": {
      "text/plain": [
       "(array([ 0.01275478,  0.69638749,  0.03467109,  0.25618664]), 1.0)"
      ]
     },
     "execution_count": 66,
     "metadata": {},
     "output_type": "execute_result"
    }
   ],
   "source": [
    "out = np.exp(x) / np.sum(np.exp(x))\n",
    "out, out.sum()"
   ]
  },
  {
   "cell_type": "markdown",
   "metadata": {},
   "source": [
    "Next we need to judge how good our predictions is. For classification we use the categorical crossentropy:\n",
    "\n",
    "$L = - \\sum_c y_t^c \\log(y_p^c)$\n",
    "\n",
    "$c$ is the class, so one of our ten numbers."
   ]
  },
  {
   "cell_type": "code",
   "execution_count": 67,
   "metadata": {},
   "outputs": [],
   "source": [
    "linear_model.compile('adam', 'categorical_crossentropy', metrics=['accuracy'])"
   ]
  },
  {
   "cell_type": "code",
   "execution_count": 68,
   "metadata": {},
   "outputs": [
    {
     "name": "stdout",
     "output_type": "stream",
     "text": [
      "_________________________________________________________________\n",
      "Layer (type)                 Output Shape              Param #   \n",
      "=================================================================\n",
      "dense_1 (Dense)              (None, 10)                7850      \n",
      "=================================================================\n",
      "Total params: 7,850\n",
      "Trainable params: 7,850\n",
      "Non-trainable params: 0\n",
      "_________________________________________________________________\n"
     ]
    }
   ],
   "source": [
    "linear_model.summary()"
   ]
  },
  {
   "cell_type": "code",
   "execution_count": 71,
   "metadata": {},
   "outputs": [
    {
     "name": "stdout",
     "output_type": "stream",
     "text": [
      "Train on 48000 samples, validate on 12000 samples\n",
      "Epoch 1/10\n",
      "48000/48000 [==============================] - 2s 32us/step - loss: 1.2356 - acc: 0.7020 - val_loss: 0.7268 - val_acc: 0.8385\n",
      "Epoch 2/10\n",
      "48000/48000 [==============================] - 1s 22us/step - loss: 0.6034 - acc: 0.8606 - val_loss: 0.5216 - val_acc: 0.8721\n",
      "Epoch 3/10\n",
      "48000/48000 [==============================] - 1s 22us/step - loss: 0.4760 - acc: 0.8823 - val_loss: 0.4449 - val_acc: 0.8850\n",
      "Epoch 4/10\n",
      "48000/48000 [==============================] - 1s 22us/step - loss: 0.4179 - acc: 0.8935 - val_loss: 0.4039 - val_acc: 0.8923\n",
      "Epoch 5/10\n",
      "48000/48000 [==============================] - 1s 24us/step - loss: 0.3836 - acc: 0.9001 - val_loss: 0.3775 - val_acc: 0.8991\n",
      "Epoch 6/10\n",
      "48000/48000 [==============================] - 1s 24us/step - loss: 0.3602 - acc: 0.9049 - val_loss: 0.3593 - val_acc: 0.9032\n",
      "Epoch 7/10\n",
      "48000/48000 [==============================] - 1s 23us/step - loss: 0.3438 - acc: 0.9080 - val_loss: 0.3467 - val_acc: 0.9046\n",
      "Epoch 8/10\n",
      "48000/48000 [==============================] - 1s 23us/step - loss: 0.3308 - acc: 0.9115 - val_loss: 0.3365 - val_acc: 0.9073\n",
      "Epoch 9/10\n",
      "48000/48000 [==============================] - 1s 24us/step - loss: 0.3207 - acc: 0.9131 - val_loss: 0.3285 - val_acc: 0.9086\n",
      "Epoch 10/10\n",
      "48000/48000 [==============================] - 1s 24us/step - loss: 0.3125 - acc: 0.9156 - val_loss: 0.3218 - val_acc: 0.9107\n"
     ]
    },
    {
     "data": {
      "text/plain": [
       "<keras.callbacks.History at 0x159656b70>"
      ]
     },
     "execution_count": 71,
     "metadata": {},
     "output_type": "execute_result"
    }
   ],
   "source": [
    "linear_model.fit(x_trn, yoh_trn, batch_size=512, epochs=10, validation_data=(x_val, yoh_val))"
   ]
  },
  {
   "cell_type": "code",
   "execution_count": 76,
   "metadata": {
    "collapsed": true
   },
   "outputs": [],
   "source": [
    "preds = linear_model.predict(x_val, 4096)"
   ]
  },
  {
   "cell_type": "code",
   "execution_count": 77,
   "metadata": {},
   "outputs": [
    {
     "data": {
      "text/plain": [
       "array([[  1.77368245e-04,   4.82977412e-05,   1.11570593e-03,\n",
       "          2.78864500e-05,   1.83108598e-01,   9.39771598e-06,\n",
       "          7.83851147e-01,   7.28723853e-06,   4.62866388e-03,\n",
       "          2.70256419e-02],\n",
       "       [  9.58559394e-01,   2.05343508e-06,   4.20646771e-04,\n",
       "          1.91771006e-03,   1.12979387e-06,   3.16585489e-02,\n",
       "          9.01558888e-05,   7.55626243e-05,   7.22245546e-03,\n",
       "          5.24335301e-05],\n",
       "       [  5.59759997e-07,   3.44581419e-10,   4.33685746e-05,\n",
       "          5.52379515e-06,   9.98886645e-01,   3.72307909e-06,\n",
       "          1.09675939e-05,   2.44828389e-08,   2.98440173e-05,\n",
       "          1.01934676e-03]], dtype=float32)"
      ]
     },
     "execution_count": 77,
     "metadata": {},
     "output_type": "execute_result"
    }
   ],
   "source": [
    "preds[:3]"
   ]
  },
  {
   "cell_type": "code",
   "execution_count": 80,
   "metadata": {},
   "outputs": [
    {
     "data": {
      "text/plain": [
       "array([6, 0, 4])"
      ]
     },
     "execution_count": 80,
     "metadata": {},
     "output_type": "execute_result"
    }
   ],
   "source": [
    "num_preds = np.argmax(preds, axis=1); num_preds[:3]"
   ]
  },
  {
   "cell_type": "code",
   "execution_count": 81,
   "metadata": {},
   "outputs": [
    {
     "data": {
      "image/png": "[encoded data removed]",
      "text/plain": [
       "<matplotlib.figure.Figure at 0x1597948d0>"
      ]
     },
     "metadata": {},
     "output_type": "display_data"
    }
   ],
   "source": [
    "plots(x_val[:9].reshape(-1, 28, 28), num_preds[:9])"
   ]
  },
  {
   "cell_type": "markdown",
   "metadata": {},
   "source": [
    "## A neural network\n",
    "\n",
    "A neural network consists of several layers, connected by matrix multiplications. Layers between the input and output layer are called hidden layers. The activations in these layers are passed through a non-linear activation function.\n",
    "\n",
    "Neural networks can approximate any non-linear function: http://neuralnetworksanddeeplearning.com/chap4.html"
   ]
  },
  {
   "cell_type": "code",
   "execution_count": 82,
   "metadata": {
    "collapsed": true
   },
   "outputs": [],
   "source": [
    "neural_net = Sequential([\n",
    "    Dense(512, input_shape=(784,), activation='relu'),\n",
    "    Dense(10, activation='softmax'),\n",
    "])"
   ]
  },
  {
   "cell_type": "code",
   "execution_count": 83,
   "metadata": {
    "collapsed": true
   },
   "outputs": [],
   "source": [
    "neural_net.compile('adam', 'categorical_crossentropy', metrics=['accuracy'])"
   ]
  },
  {
   "cell_type": "code",
   "execution_count": 84,
   "metadata": {},
   "outputs": [
    {
     "name": "stdout",
     "output_type": "stream",
     "text": [
      "_________________________________________________________________\n",
      "Layer (type)                 Output Shape              Param #   \n",
      "=================================================================\n",
      "dense_2 (Dense)              (None, 512)               401920    \n",
      "_________________________________________________________________\n",
      "dense_3 (Dense)              (None, 10)                5130      \n",
      "=================================================================\n",
      "Total params: 407,050\n",
      "Trainable params: 407,050\n",
      "Non-trainable params: 0\n",
      "_________________________________________________________________\n"
     ]
    }
   ],
   "source": [
    "neural_net.summary()"
   ]
  },
  {
   "cell_type": "code",
   "execution_count": 85,
   "metadata": {},
   "outputs": [
    {
     "name": "stdout",
     "output_type": "stream",
     "text": [
      "Train on 48000 samples, validate on 12000 samples\n",
      "Epoch 1/10\n",
      "48000/48000 [==============================] - 6s 120us/step - loss: 0.4628 - acc: 0.8746 - val_loss: 0.2439 - val_acc: 0.9327\n",
      "Epoch 2/10\n",
      "48000/48000 [==============================] - 5s 113us/step - loss: 0.1951 - acc: 0.9454 - val_loss: 0.1776 - val_acc: 0.9498\n",
      "Epoch 3/10\n",
      "48000/48000 [==============================] - 5s 113us/step - loss: 0.1416 - acc: 0.9603 - val_loss: 0.1432 - val_acc: 0.9586\n",
      "Epoch 4/10\n",
      "48000/48000 [==============================] - 6s 115us/step - loss: 0.1102 - acc: 0.9689 - val_loss: 0.1242 - val_acc: 0.9628\n",
      "Epoch 5/10\n",
      "48000/48000 [==============================] - 5s 114us/step - loss: 0.0889 - acc: 0.9751 - val_loss: 0.1077 - val_acc: 0.9674\n",
      "Epoch 6/10\n",
      "48000/48000 [==============================] - 5s 112us/step - loss: 0.0724 - acc: 0.9798 - val_loss: 0.0998 - val_acc: 0.9708\n",
      "Epoch 7/10\n",
      "48000/48000 [==============================] - 6s 119us/step - loss: 0.0603 - acc: 0.9836 - val_loss: 0.0938 - val_acc: 0.9699\n",
      "Epoch 8/10\n",
      "48000/48000 [==============================] - 6s 119us/step - loss: 0.0512 - acc: 0.9858 - val_loss: 0.0878 - val_acc: 0.9728\n",
      "Epoch 9/10\n",
      "48000/48000 [==============================] - 6s 115us/step - loss: 0.0424 - acc: 0.9889 - val_loss: 0.0834 - val_acc: 0.9745\n",
      "Epoch 10/10\n",
      "48000/48000 [==============================] - 6s 117us/step - loss: 0.0363 - acc: 0.9910 - val_loss: 0.0836 - val_acc: 0.9746\n"
     ]
    },
    {
     "data": {
      "text/plain": [
       "<keras.callbacks.History at 0x146c3ff98>"
      ]
     },
     "execution_count": 85,
     "metadata": {},
     "output_type": "execute_result"
    }
   ],
   "source": [
    "neural_net.fit(x_trn, yoh_trn, batch_size=512, epochs=10, validation_data=(x_val, yoh_val))"
   ]
  },
  {
   "cell_type": "markdown",
   "metadata": {},
   "source": [
    "### Deep neural networks"
   ]
  },
  {
   "cell_type": "code",
   "execution_count": 87,
   "metadata": {
    "collapsed": true
   },
   "outputs": [],
   "source": [
    "deep_net = Sequential([\n",
    "    Dense(512, input_shape=(784,), activation='relu'),\n",
    "    Dropout(0.3),\n",
    "    Dense(256, activation='relu'),\n",
    "    Dropout(0.3),\n",
    "    Dense(256, activation='relu'),\n",
    "    Dropout(0.3),\n",
    "    Dense(10, activation='softmax'),\n",
    "])"
   ]
  },
  {
   "cell_type": "code",
   "execution_count": 88,
   "metadata": {
    "collapsed": true
   },
   "outputs": [],
   "source": [
    "deep_net.compile('adam', 'categorical_crossentropy', metrics=['accuracy'])"
   ]
  },
  {
   "cell_type": "code",
   "execution_count": 89,
   "metadata": {},
   "outputs": [
    {
     "name": "stdout",
     "output_type": "stream",
     "text": [
      "_________________________________________________________________\n",
      "Layer (type)                 Output Shape              Param #   \n",
      "=================================================================\n",
      "dense_8 (Dense)              (None, 512)               401920    \n",
      "_________________________________________________________________\n",
      "dropout_4 (Dropout)          (None, 512)               0         \n",
      "_________________________________________________________________\n",
      "dense_9 (Dense)              (None, 256)               131328    \n",
      "_________________________________________________________________\n",
      "dropout_5 (Dropout)          (None, 256)               0         \n",
      "_________________________________________________________________\n",
      "dense_10 (Dense)             (None, 256)               65792     \n",
      "_________________________________________________________________\n",
      "dropout_6 (Dropout)          (None, 256)               0         \n",
      "_________________________________________________________________\n",
      "dense_11 (Dense)             (None, 10)                2570      \n",
      "=================================================================\n",
      "Total params: 601,610\n",
      "Trainable params: 601,610\n",
      "Non-trainable params: 0\n",
      "_________________________________________________________________\n"
     ]
    }
   ],
   "source": [
    "deep_net.summary()"
   ]
  },
  {
   "cell_type": "code",
   "execution_count": 90,
   "metadata": {
    "scrolled": true
   },
   "outputs": [
    {
     "name": "stdout",
     "output_type": "stream",
     "text": [
      "Train on 48000 samples, validate on 12000 samples\n",
      "Epoch 1/10\n",
      "48000/48000 [==============================] - 10s 213us/step - loss: 0.5697 - acc: 0.8233 - val_loss: 0.1943 - val_acc: 0.9386\n",
      "Epoch 2/10\n",
      "48000/48000 [==============================] - 9s 189us/step - loss: 0.1945 - acc: 0.9418 - val_loss: 0.1308 - val_acc: 0.9602\n",
      "Epoch 3/10\n",
      "48000/48000 [==============================] - 9s 197us/step - loss: 0.1361 - acc: 0.9594 - val_loss: 0.1076 - val_acc: 0.9659\n",
      "Epoch 4/10\n",
      "48000/48000 [==============================] - 9s 197us/step - loss: 0.1087 - acc: 0.9668 - val_loss: 0.0891 - val_acc: 0.9723\n",
      "Epoch 5/10\n",
      "48000/48000 [==============================] - 10s 201us/step - loss: 0.0865 - acc: 0.9743 - val_loss: 0.0886 - val_acc: 0.9722\n",
      "Epoch 6/10\n",
      "48000/48000 [==============================] - 10s 200us/step - loss: 0.0715 - acc: 0.9772 - val_loss: 0.0824 - val_acc: 0.9749\n",
      "Epoch 7/10\n",
      "48000/48000 [==============================] - 9s 198us/step - loss: 0.0606 - acc: 0.9804 - val_loss: 0.0795 - val_acc: 0.9772\n",
      "Epoch 8/10\n",
      "48000/48000 [==============================] - 10s 199us/step - loss: 0.0547 - acc: 0.9829 - val_loss: 0.0717 - val_acc: 0.9792\n",
      "Epoch 9/10\n",
      "48000/48000 [==============================] - 9s 195us/step - loss: 0.0484 - acc: 0.9842 - val_loss: 0.0727 - val_acc: 0.9794\n",
      "Epoch 10/10\n",
      "48000/48000 [==============================] - 10s 206us/step - loss: 0.0444 - acc: 0.9855 - val_loss: 0.0813 - val_acc: 0.9781\n"
     ]
    },
    {
     "data": {
      "text/plain": [
       "<keras.callbacks.History at 0x147050c18>"
      ]
     },
     "execution_count": 90,
     "metadata": {},
     "output_type": "execute_result"
    }
   ],
   "source": [
    "deep_net.fit(x_trn, yoh_trn, batch_size=512, epochs=10, validation_data=(x_val, yoh_val))"
   ]
  },
  {
   "cell_type": "code",
   "execution_count": 91,
   "metadata": {},
   "outputs": [
    {
     "name": "stdout",
     "output_type": "stream",
     "text": [
      "Train on 48000 samples, validate on 12000 samples\n",
      "Epoch 1/10\n",
      "48000/48000 [==============================] - 9s 189us/step - loss: 0.0399 - acc: 0.9874 - val_loss: 0.0839 - val_acc: 0.9772\n",
      "Epoch 2/10\n",
      "48000/48000 [==============================] - 9s 188us/step - loss: 0.0393 - acc: 0.9873 - val_loss: 0.0753 - val_acc: 0.9790\n",
      "Epoch 3/10\n",
      "48000/48000 [==============================] - 9s 192us/step - loss: 0.0335 - acc: 0.9888 - val_loss: 0.0798 - val_acc: 0.9800\n",
      "Epoch 4/10\n",
      "48000/48000 [==============================] - 9s 196us/step - loss: 0.0313 - acc: 0.9897 - val_loss: 0.0799 - val_acc: 0.9793\n",
      "Epoch 5/10\n",
      "48000/48000 [==============================] - 11s 219us/step - loss: 0.0275 - acc: 0.9905 - val_loss: 0.0736 - val_acc: 0.9814\n",
      "Epoch 6/10\n",
      "48000/48000 [==============================] - 15s 316us/step - loss: 0.0276 - acc: 0.9906 - val_loss: 0.0813 - val_acc: 0.9789\n",
      "Epoch 7/10\n",
      "48000/48000 [==============================] - 10s 219us/step - loss: 0.0248 - acc: 0.9917 - val_loss: 0.0786 - val_acc: 0.9816\n",
      "Epoch 8/10\n",
      "48000/48000 [==============================] - 9s 192us/step - loss: 0.0230 - acc: 0.9924 - val_loss: 0.0802 - val_acc: 0.9807\n",
      "Epoch 9/10\n",
      "48000/48000 [==============================] - 10s 199us/step - loss: 0.0236 - acc: 0.9924 - val_loss: 0.0883 - val_acc: 0.9793\n",
      "Epoch 10/10\n",
      "48000/48000 [==============================] - 9s 193us/step - loss: 0.0221 - acc: 0.9926 - val_loss: 0.0857 - val_acc: 0.9803\n"
     ]
    },
    {
     "data": {
      "text/plain": [
       "<keras.callbacks.History at 0x1144628d0>"
      ]
     },
     "execution_count": 91,
     "metadata": {},
     "output_type": "execute_result"
    }
   ],
   "source": [
    "deep_net.optimizer.lr=1e-4\n",
    "deep_net.fit(x_trn, yoh_trn, batch_size=512, epochs=10, validation_data=(x_val, yoh_val))"
   ]
  },
  {
   "cell_type": "markdown",
   "metadata": {},
   "source": [
    "## Convolutions\n",
    "\n",
    "To take advantage of the spatial information in images we can use convolutions rather than fully connected layers.\n",
    "\n",
    "http://setosa.io/ev/image-kernels/"
   ]
  },
  {
   "cell_type": "code",
   "execution_count": 110,
   "metadata": {},
   "outputs": [],
   "source": [
    "conv_net = Sequential([\n",
    "    Conv2D(32, kernel_size=5, strides=2, activation='relu', padding='same', input_shape=(28, 28, 1)),\n",
    "    Conv2D(64, kernel_size=3, strides=2, activation='relu', padding='same'),\n",
    "    Conv2D(128, kernel_size=3, strides=2, activation='relu', padding='same'),\n",
    "    Conv2D(10, kernel_size=3, strides=2, padding='same'),\n",
    "    GlobalAveragePooling2D(),\n",
    "    Activation('softmax')\n",
    "])"
   ]
  },
  {
   "cell_type": "code",
   "execution_count": 111,
   "metadata": {},
   "outputs": [
    {
     "name": "stdout",
     "output_type": "stream",
     "text": [
      "_________________________________________________________________\n",
      "Layer (type)                 Output Shape              Param #   \n",
      "=================================================================\n",
      "conv2d_21 (Conv2D)           (None, 14, 14, 32)        832       \n",
      "_________________________________________________________________\n",
      "conv2d_22 (Conv2D)           (None, 7, 7, 64)          18496     \n",
      "_________________________________________________________________\n",
      "conv2d_23 (Conv2D)           (None, 4, 4, 128)         73856     \n",
      "_________________________________________________________________\n",
      "conv2d_24 (Conv2D)           (None, 2, 2, 10)          11530     \n",
      "_________________________________________________________________\n",
      "global_average_pooling2d_3 ( (None, 10)                0         \n",
      "_________________________________________________________________\n",
      "activation_2 (Activation)    (None, 10)                0         \n",
      "=================================================================\n",
      "Total params: 104,714\n",
      "Trainable params: 104,714\n",
      "Non-trainable params: 0\n",
      "_________________________________________________________________\n"
     ]
    }
   ],
   "source": [
    "conv_net.summary()"
   ]
  },
  {
   "cell_type": "code",
   "execution_count": 112,
   "metadata": {
    "collapsed": true
   },
   "outputs": [],
   "source": [
    "conv_net.compile('adam', 'categorical_crossentropy', metrics=['accuracy'])"
   ]
  },
  {
   "cell_type": "code",
   "execution_count": 113,
   "metadata": {},
   "outputs": [
    {
     "name": "stdout",
     "output_type": "stream",
     "text": [
      "Train on 48000 samples, validate on 12000 samples\n",
      "Epoch 1/10\n",
      "48000/48000 [==============================] - 41s 862us/step - loss: 0.8061 - acc: 0.7725 - val_loss: 0.3387 - val_acc: 0.8976\n",
      "Epoch 2/10\n",
      "48000/48000 [==============================] - 39s 815us/step - loss: 0.2626 - acc: 0.9229 - val_loss: 0.2102 - val_acc: 0.9384\n",
      "Epoch 3/10\n",
      "48000/48000 [==============================] - 40s 828us/step - loss: 0.1729 - acc: 0.9495 - val_loss: 0.1646 - val_acc: 0.9504\n",
      "Epoch 4/10\n",
      "48000/48000 [==============================] - 40s 828us/step - loss: 0.1275 - acc: 0.9624 - val_loss: 0.1291 - val_acc: 0.9617\n",
      "Epoch 5/10\n",
      "48000/48000 [==============================] - 41s 845us/step - loss: 0.0998 - acc: 0.9694 - val_loss: 0.1036 - val_acc: 0.9679\n",
      "Epoch 6/10\n",
      "48000/48000 [==============================] - 40s 829us/step - loss: 0.0829 - acc: 0.9746 - val_loss: 0.0948 - val_acc: 0.9727\n",
      "Epoch 7/10\n",
      "48000/48000 [==============================] - 40s 824us/step - loss: 0.0724 - acc: 0.9780 - val_loss: 0.0903 - val_acc: 0.9728\n",
      "Epoch 8/10\n",
      "48000/48000 [==============================] - 39s 812us/step - loss: 0.0656 - acc: 0.9804 - val_loss: 0.0803 - val_acc: 0.9757\n",
      "Epoch 9/10\n",
      "48000/48000 [==============================] - 40s 830us/step - loss: 0.0553 - acc: 0.9833 - val_loss: 0.0710 - val_acc: 0.9787\n",
      "Epoch 10/10\n",
      "48000/48000 [==============================] - 39s 817us/step - loss: 0.0503 - acc: 0.9847 - val_loss: 0.0740 - val_acc: 0.9788\n"
     ]
    },
    {
     "data": {
      "text/plain": [
       "<keras.callbacks.History at 0x118b55278>"
      ]
     },
     "execution_count": 113,
     "metadata": {},
     "output_type": "execute_result"
    }
   ],
   "source": [
    "conv_net.fit(x_trn.reshape(-1, 28, 28, 1), yoh_trn, batch_size=512, epochs=10, \n",
    "             validation_data=(x_val.reshape(-1, 28, 28, 1), yoh_val))"
   ]
  },
  {
   "cell_type": "markdown",
   "metadata": {},
   "source": [
    "## End"
   ]
  }
 ],
 "metadata": {
  "kernelspec": {
   "display_name": "Python 3",
   "language": "python",
   "name": "python3"
  },
  "language_info": {
   "codemirror_mode": {
    "name": "ipython",
    "version": 3
   },
   "file_extension": ".py",
   "mimetype": "text/x-python",
   "name": "python",
   "nbconvert_exporter": "python",
   "pygments_lexer": "ipython3",
   "version": "3.6.5"
  },
  "toc": {
   "base_numbering": 1,
   "nav_menu": {},
   "number_sections": true,
   "sideBar": false,
   "skip_h1_title": true,
   "title_cell": "Table of Contents",
   "title_sidebar": "Contents",
   "toc_cell": false,
   "toc_position": {},
   "toc_section_display": "block",
   "toc_window_display": false
  }
 },
 "nbformat": 4,
 "nbformat_minor": 2
}
